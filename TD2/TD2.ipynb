{
 "cells": [
  {
   "cell_type": "code",
   "execution_count": 1,
   "metadata": {},
   "outputs": [
    {
     "data": {
      "text/plain": [
       "[{'URI': 'http://dbpedia.org/resource/Berlin',\n",
       "  'support': 87107,\n",
       "  'types': 'Wikidata:Q515,Wikidata:Q486972,Schema:Place,Schema:City,DBpedia:Settlement,DBpedia:PopulatedPlace,DBpedia:Place,DBpedia:Location,DBpedia:City',\n",
       "  'surfaceForm': 'Berlin',\n",
       "  'offset': 0,\n",
       "  'similarityScore': 0.9983656061097194,\n",
       "  'percentageOfSecondRank': 0.0008228013211064525},\n",
       " {'URI': 'http://dbpedia.org/resource/City',\n",
       "  'support': 22610,\n",
       "  'types': '',\n",
       "  'surfaceForm': 'city',\n",
       "  'offset': 34,\n",
       "  'similarityScore': 0.8720405806057635,\n",
       "  'percentageOfSecondRank': 0.10547609042001196},\n",
       " {'URI': 'http://dbpedia.org/resource/Germany',\n",
       "  'support': 222752,\n",
       "  'types': 'Wikidata:Q6256,Schema:Place,Schema:Country,DBpedia:PopulatedPlace,DBpedia:Place,DBpedia:Location,DBpedia:Country',\n",
       "  'surfaceForm': 'Germany',\n",
       "  'offset': 42,\n",
       "  'similarityScore': 0.9959557085639706,\n",
       "  'percentageOfSecondRank': 0.0024005027968948783}]"
      ]
     },
     "execution_count": 1,
     "metadata": {},
     "output_type": "execute_result"
    }
   ],
   "source": [
    "import spotlight\n",
    "annotations = spotlight.annotate('https://api.dbpedia-spotlight.org/en/annotate',\n",
    "    'Berlin is the capital and largest city of Germany',confidence=0.4,support = 20)\n",
    "annotations"
   ]
  },
  {
   "cell_type": "code",
   "execution_count": 2,
   "metadata": {},
   "outputs": [
    {
     "data": {
      "text/plain": [
       "'http://dbpedia.org/resource/Berlin'"
      ]
     },
     "execution_count": 2,
     "metadata": {},
     "output_type": "execute_result"
    }
   ],
   "source": [
    "annotations[0][\"URI\"]"
   ]
  },
  {
   "cell_type": "code",
   "execution_count": 3,
   "metadata": {},
   "outputs": [],
   "source": [
    "def getURIs(json):\n",
    "    URIs = []\n",
    "    for obj in json:\n",
    "        URIs.append(obj[\"URI\"])\n",
    "\n",
    "    return URIs\n",
    "URIs = getURIs(annotations)"
   ]
  },
  {
   "cell_type": "code",
   "execution_count": 4,
   "metadata": {},
   "outputs": [],
   "source": [
    "from SPARQLWrapper import SPARQLWrapper, JSON\n",
    "import pandas as pd\n",
    "endpoint = \"https://dbpedia.org/sparql\"\n",
    "def sparql_to_dataframe(endpoint, query):\n",
    "    \"\"\"\n",
    "    Convert SPARQL results into a Pandas DataFrame.\n",
    "    Credit: https://lawlesst.github.io/notebook/sparql-dataframe.html\n",
    "    \"\"\"\n",
    "    sparql = SPARQLWrapper(endpoint)\n",
    "    sparql.setQuery(query)\n",
    "    sparql.setReturnFormat(JSON)\n",
    "    results = sparql.queryAndConvert()\n",
    "\n",
    "    cols = results['head']['vars']\n",
    "    out = []\n",
    "    for row in results['results']['bindings']:\n",
    "        item = []\n",
    "        for c in cols:\n",
    "            item.append(row.get(c, {}).get('value'))\n",
    "        out.append(item)\n",
    "\n",
    "    return pd.DataFrame(out, columns=cols)\n"
   ]
  },
  {
   "cell_type": "code",
   "execution_count": 5,
   "metadata": {},
   "outputs": [],
   "source": [
    "def test(URI):\n",
    "    return '''\n",
    "select * where {\n",
    "    <%s> rdfs:comment ?y.\n",
    "    filter(lang(?y)=\"en\")\n",
    " }'''%(URI)"
   ]
  },
  {
   "cell_type": "code",
   "execution_count": 6,
   "metadata": {},
   "outputs": [],
   "source": [
    "def retrieveTest(endpoint,uri) :\n",
    "    query = test(uri)\n",
    "    result = sparql_to_dataframe(endpoint, query)\n",
    "    return result"
   ]
  },
  {
   "cell_type": "code",
   "execution_count": 7,
   "metadata": {},
   "outputs": [
    {
     "data": {
      "text/html": [
       "<div>\n",
       "<style scoped>\n",
       "    .dataframe tbody tr th:only-of-type {\n",
       "        vertical-align: middle;\n",
       "    }\n",
       "\n",
       "    .dataframe tbody tr th {\n",
       "        vertical-align: top;\n",
       "    }\n",
       "\n",
       "    .dataframe thead th {\n",
       "        text-align: right;\n",
       "    }\n",
       "</style>\n",
       "<table border=\"1\" class=\"dataframe\">\n",
       "  <thead>\n",
       "    <tr style=\"text-align: right;\">\n",
       "      <th></th>\n",
       "      <th>y</th>\n",
       "    </tr>\n",
       "  </thead>\n",
       "  <tbody>\n",
       "    <tr>\n",
       "      <th>0</th>\n",
       "      <td>Berlin (/bɜːrˈlɪn/ bur-LIN, German: [bɛʁˈliːn]...</td>\n",
       "    </tr>\n",
       "  </tbody>\n",
       "</table>\n",
       "</div>"
      ],
      "text/plain": [
       "                                                   y\n",
       "0  Berlin (/bɜːrˈlɪn/ bur-LIN, German: [bɛʁˈliːn]..."
      ]
     },
     "execution_count": 7,
     "metadata": {},
     "output_type": "execute_result"
    }
   ],
   "source": [
    "retrieveTest(endpoint,URIs[0])"
   ]
  },
  {
   "cell_type": "code",
   "execution_count": 8,
   "metadata": {},
   "outputs": [
    {
     "data": {
      "text/html": [
       "<div>\n",
       "<style scoped>\n",
       "    .dataframe tbody tr th:only-of-type {\n",
       "        vertical-align: middle;\n",
       "    }\n",
       "\n",
       "    .dataframe tbody tr th {\n",
       "        vertical-align: top;\n",
       "    }\n",
       "\n",
       "    .dataframe thead th {\n",
       "        text-align: right;\n",
       "    }\n",
       "</style>\n",
       "<table border=\"1\" class=\"dataframe\">\n",
       "  <thead>\n",
       "    <tr style=\"text-align: right;\">\n",
       "      <th></th>\n",
       "      <th>text</th>\n",
       "      <th>label</th>\n",
       "    </tr>\n",
       "  </thead>\n",
       "  <tbody>\n",
       "    <tr>\n",
       "      <th>0</th>\n",
       "      <td>Here are Thursday's biggest analyst calls: App...</td>\n",
       "      <td>0</td>\n",
       "    </tr>\n",
       "    <tr>\n",
       "      <th>1</th>\n",
       "      <td>Buy Las Vegas Sands as travel to Singapore bui...</td>\n",
       "      <td>0</td>\n",
       "    </tr>\n",
       "    <tr>\n",
       "      <th>2</th>\n",
       "      <td>Piper Sandler downgrades DocuSign to sell, cit...</td>\n",
       "      <td>0</td>\n",
       "    </tr>\n",
       "    <tr>\n",
       "      <th>3</th>\n",
       "      <td>Analysts react to Tesla's latest earnings, bre...</td>\n",
       "      <td>0</td>\n",
       "    </tr>\n",
       "    <tr>\n",
       "      <th>4</th>\n",
       "      <td>Netflix and its peers are set for a ‘return to...</td>\n",
       "      <td>0</td>\n",
       "    </tr>\n",
       "  </tbody>\n",
       "</table>\n",
       "</div>"
      ],
      "text/plain": [
       "                                                text  label\n",
       "0  Here are Thursday's biggest analyst calls: App...      0\n",
       "1  Buy Las Vegas Sands as travel to Singapore bui...      0\n",
       "2  Piper Sandler downgrades DocuSign to sell, cit...      0\n",
       "3  Analysts react to Tesla's latest earnings, bre...      0\n",
       "4  Netflix and its peers are set for a ‘return to...      0"
      ]
     },
     "execution_count": 8,
     "metadata": {},
     "output_type": "execute_result"
    }
   ],
   "source": [
    "df_train = pd.read_csv('data_train.csv')\n",
    "df_train.head()"
   ]
  },
  {
   "cell_type": "code",
   "execution_count": 14,
   "metadata": {},
   "outputs": [
    {
     "data": {
      "text/html": [
       "<div>\n",
       "<style scoped>\n",
       "    .dataframe tbody tr th:only-of-type {\n",
       "        vertical-align: middle;\n",
       "    }\n",
       "\n",
       "    .dataframe tbody tr th {\n",
       "        vertical-align: top;\n",
       "    }\n",
       "\n",
       "    .dataframe thead th {\n",
       "        text-align: right;\n",
       "    }\n",
       "</style>\n",
       "<table border=\"1\" class=\"dataframe\">\n",
       "  <thead>\n",
       "    <tr style=\"text-align: right;\">\n",
       "      <th></th>\n",
       "      <th>text</th>\n",
       "      <th>label</th>\n",
       "    </tr>\n",
       "  </thead>\n",
       "  <tbody>\n",
       "    <tr>\n",
       "      <th>0</th>\n",
       "      <td>Analyst call of the day for @CNBCPro subscribe...</td>\n",
       "      <td>0</td>\n",
       "    </tr>\n",
       "    <tr>\n",
       "      <th>1</th>\n",
       "      <td>Loop upgrades CSX to buy, says it's a good pla...</td>\n",
       "      <td>0</td>\n",
       "    </tr>\n",
       "    <tr>\n",
       "      <th>2</th>\n",
       "      <td>BofA believes we're already in a recession — a...</td>\n",
       "      <td>0</td>\n",
       "    </tr>\n",
       "    <tr>\n",
       "      <th>3</th>\n",
       "      <td>JPMorgan sees these derivative plays as best w...</td>\n",
       "      <td>0</td>\n",
       "    </tr>\n",
       "    <tr>\n",
       "      <th>4</th>\n",
       "      <td>Morgan Stanley's Huberty sees Apple earnings m...</td>\n",
       "      <td>0</td>\n",
       "    </tr>\n",
       "  </tbody>\n",
       "</table>\n",
       "</div>"
      ],
      "text/plain": [
       "                                                text  label\n",
       "0  Analyst call of the day for @CNBCPro subscribe...      0\n",
       "1  Loop upgrades CSX to buy, says it's a good pla...      0\n",
       "2  BofA believes we're already in a recession — a...      0\n",
       "3  JPMorgan sees these derivative plays as best w...      0\n",
       "4  Morgan Stanley's Huberty sees Apple earnings m...      0"
      ]
     },
     "execution_count": 14,
     "metadata": {},
     "output_type": "execute_result"
    }
   ],
   "source": [
    "df_test = pd.read_csv('data_test.csv')\n",
    "df_test.head()"
   ]
  },
  {
   "cell_type": "code",
   "execution_count": 16,
   "metadata": {},
   "outputs": [
    {
     "data": {
      "text/plain": [
       "0    Analyst call of the day for @CNBCPro subscribe...\n",
       "1    Loop upgrades CSX to buy, says it's a good pla...\n",
       "2    BofA believes we're already in a recession — a...\n",
       "3    JPMorgan sees these derivative plays as best w...\n",
       "4    Morgan Stanley's Huberty sees Apple earnings m...\n",
       "Name: text, dtype: object"
      ]
     },
     "execution_count": 16,
     "metadata": {},
     "output_type": "execute_result"
    }
   ],
   "source": [
    "df_test = df_test.iloc[:,0]\n",
    "df_test.head()"
   ]
  },
  {
   "cell_type": "code",
   "execution_count": 17,
   "metadata": {},
   "outputs": [
    {
     "name": "stdout",
     "output_type": "stream",
     "text": [
      "[{'URI': 'http://dbpedia.org/resource/Goldman_Sachs', 'support': 3551, 'types': '', 'surfaceForm': 'Goldman Sachs', 'offset': 50, 'similarityScore': 0.9999999999999432, 'percentageOfSecondRank': 6.471181859740883e-14}, {'URI': 'http://dbpedia.org/resource/Exxon', 'support': 1240, 'types': '', 'surfaceForm': 'Exxon', 'offset': 75, 'similarityScore': 0.6790815411672405, 'percentageOfSecondRank': 0.472474000346315}, {'URI': 'http://dbpedia.org/resource/Market_sentiment', 'support': 100, 'types': '', 'surfaceForm': 'bullish', 'offset': 102, 'similarityScore': 0.9983130902605105, 'percentageOfSecondRank': 0.0016897602124529294}, {'URI': 'http://dbpedia.org/resource/CNBC', 'support': 3761, 'types': 'Wikidata:Q43229,Wikidata:Q24229398,Wikidata:Q15265344,DUL:SocialPerson,DUL:Agent,Schema:TelevisionStation,Schema:Organization,DBpedia:Organisation,DBpedia:Broadcaster,DBpedia:Agent,DBpedia:TelevisionStation', 'surfaceForm': 'CNBC', 'offset': 201, 'similarityScore': 0.9999767139470163, 'percentageOfSecondRank': 2.259656393829552e-05}, {'URI': 'http://dbpedia.org/resource/Twitter', 'support': 26059, 'types': 'Wikidata:Q386724,Schema:WebSite,Schema:CreativeWork,DBpedia:Work,DBpedia:Website', 'surfaceForm': 't.co', 'offset': 220, 'similarityScore': 1.0, 'percentageOfSecondRank': 0.0}]\n",
      "[{'URI': 'http://dbpedia.org/resource/CSX_Transportation', 'support': 4406, 'types': 'Wikidata:Q4830453,Wikidata:Q43229,Wikidata:Q24229398,DUL:SocialPerson,DUL:Agent,Schema:Organization,DBpedia:Organisation,DBpedia:Company,DBpedia:Agent,DBpedia:PublicTransitSystem', 'surfaceForm': 'CSX', 'offset': 14, 'similarityScore': 0.9999999868188639, 'percentageOfSecondRank': 1.2306109947719882e-08}, {'URI': 'http://dbpedia.org/resource/Recession', 'support': 2175, 'types': '', 'surfaceForm': 'recession', 'offset': 82, 'similarityScore': 0.6172524914009705, 'percentageOfSecondRank': 0.6110116495196055}, {'URI': 'http://dbpedia.org/resource/Twitter', 'support': 26059, 'types': 'Wikidata:Q386724,Schema:WebSite,Schema:CreativeWork,DBpedia:Work,DBpedia:Website', 'surfaceForm': 't.co', 'offset': 101, 'similarityScore': 0.9999999999961915, 'percentageOfSecondRank': 0.0}]\n",
      "[{'URI': 'http://dbpedia.org/resource/Recession', 'support': 2175, 'types': '', 'surfaceForm': 'recession', 'offset': 33, 'similarityScore': 0.5981422419685812, 'percentageOfSecondRank': 0.6540621642258562}, {'URI': 'http://dbpedia.org/resource/Twitter', 'support': 26059, 'types': 'Wikidata:Q386724,Schema:WebSite,Schema:CreativeWork,DBpedia:Work,DBpedia:Website', 'surfaceForm': 't.co', 'offset': 106, 'similarityScore': 0.9999999999887166, 'percentageOfSecondRank': 0.0}]\n",
      "[{'URI': 'http://dbpedia.org/resource/Derivative', 'support': 4035, 'types': '', 'surfaceForm': 'derivative', 'offset': 20, 'similarityScore': 0.9141298034588443, 'percentageOfSecondRank': 0.08977418198777683}, {'URI': 'http://dbpedia.org/resource/Electric_vehicle', 'support': 2239, 'types': '', 'surfaceForm': 'electric vehicles', 'offset': 59, 'similarityScore': 0.8351257280113832, 'percentageOfSecondRank': 0.1406994666355704}, {'URI': 'http://dbpedia.org/resource/Twitter', 'support': 26059, 'types': 'Wikidata:Q386724,Schema:WebSite,Schema:CreativeWork,DBpedia:Work,DBpedia:Website', 'surfaceForm': 't.co', 'offset': 90, 'similarityScore': 0.9999999999969589, 'percentageOfSecondRank': 0.0}]\n",
      "[{'URI': 'http://dbpedia.org/resource/Morgan_Stanley', 'support': 1929, 'types': '', 'surfaceForm': 'Morgan Stanley', 'offset': 0, 'similarityScore': 1.0, 'percentageOfSecondRank': 0.0}, {'URI': 'http://dbpedia.org/resource/Apple_Inc.', 'support': 16288, 'types': 'Wikidata:Q4830453,Wikidata:Q43229,Wikidata:Q24229398,DUL:SocialPerson,DUL:Agent,Schema:Organization,Schema:BankOrCreditUnion,DBpedia:Organisation,DBpedia:Company,DBpedia:Agent,DBpedia:Bank', 'surfaceForm': 'Apple', 'offset': 30, 'similarityScore': 0.9997614513002038, 'percentageOfSecondRank': 0.00010754467886458327}, {'URI': 'http://dbpedia.org/resource/Pullback_bundle', 'support': 89, 'types': '', 'surfaceForm': 'pullback', 'offset': 71, 'similarityScore': 0.99999908115296, 'percentageOfSecondRank': 8.812297919587252e-07}, {'URI': 'http://dbpedia.org/resource/Twitter', 'support': 26059, 'types': 'Wikidata:Q386724,Schema:WebSite,Schema:CreativeWork,DBpedia:Work,DBpedia:Website', 'surfaceForm': 't.co', 'offset': 89, 'similarityScore': 0.9999999999954525, 'percentageOfSecondRank': 0.0}]\n",
      "[{'URI': 'http://dbpedia.org/resource/Prime_Video', 'support': 1688, 'types': 'Wikidata:Q386724,Schema:WebSite,Schema:CreativeWork,DBpedia:Work,DBpedia:Website', 'surfaceForm': 'Amazon', 'offset': 77, 'similarityScore': 0.918575688997995, 'percentageOfSecondRank': 0.03452084963474775}, {'URI': 'http://dbpedia.org/resource/CNBC', 'support': 3761, 'types': 'Wikidata:Q43229,Wikidata:Q24229398,Wikidata:Q15265344,DUL:SocialPerson,DUL:Agent,Schema:TelevisionStation,Schema:Organization,DBpedia:Organisation,DBpedia:Broadcaster,DBpedia:Agent,DBpedia:TelevisionStation', 'surfaceForm': 'CNBC', 'offset': 150, 'similarityScore': 0.9997404104468387, 'percentageOfSecondRank': 0.00020885050248300852}, {'URI': 'http://dbpedia.org/resource/Twitter', 'support': 26059, 'types': 'Wikidata:Q386724,Schema:WebSite,Schema:CreativeWork,DBpedia:Work,DBpedia:Website', 'surfaceForm': 't.co', 'offset': 169, 'similarityScore': 0.9999999999999716, 'percentageOfSecondRank': 0.0}]\n",
      "[{'URI': 'http://dbpedia.org/resource/Netflix', 'support': 15512, 'types': '', 'surfaceForm': 'Netflix', 'offset': 44, 'similarityScore': 0.9999999999999147, 'percentageOfSecondRank': 0.0}, {'URI': 'http://dbpedia.org/resource/Chevron_Corporation', 'support': 1946, 'types': 'Wikidata:Q4830453,Wikidata:Q43229,Wikidata:Q24229398,DUL:SocialPerson,DUL:Agent,Schema:Organization,DBpedia:Organisation,DBpedia:Agent,DBpedia:Company', 'surfaceForm': 'Chevron', 'offset': 53, 'similarityScore': 0.9999683643462415, 'percentageOfSecondRank': 3.088598257741372e-05}, {'URI': 'http://dbpedia.org/resource/Apple_Inc.', 'support': 16288, 'types': 'Wikidata:Q4830453,Wikidata:Q43229,Wikidata:Q24229398,DUL:SocialPerson,DUL:Agent,Schema:Organization,Schema:BankOrCreditUnion,DBpedia:Organisation,DBpedia:Company,DBpedia:Agent,DBpedia:Bank', 'surfaceForm': 'Apple', 'offset': 62, 'similarityScore': 0.9999986492211718, 'percentageOfSecondRank': 9.763705520033051e-07}, {'URI': 'http://dbpedia.org/resource/Alibaba_Group', 'support': 787, 'types': '', 'surfaceForm': 'Alibaba', 'offset': 69, 'similarityScore': 0.999834133229654, 'percentageOfSecondRank': 0.0001658647389650659}, {'URI': 'http://dbpedia.org/resource/Prime_Video', 'support': 1688, 'types': 'Wikidata:Q386724,Schema:WebSite,Schema:CreativeWork,DBpedia:Work,DBpedia:Website', 'surfaceForm': 'Amazon', 'offset': 78, 'similarityScore': 0.9964739167593901, 'percentageOfSecondRank': 0.002460077628949921}, {'URI': 'http://dbpedia.org/resource/Twitter', 'support': 26059, 'types': 'Wikidata:Q386724,Schema:WebSite,Schema:CreativeWork,DBpedia:Work,DBpedia:Website', 'surfaceForm': 't.co', 'offset': 105, 'similarityScore': 0.9999999999999147, 'percentageOfSecondRank': 0.0}]\n",
      "[{'URI': 'http://dbpedia.org/resource/Morgan_Stanley', 'support': 1929, 'types': '', 'surfaceForm': 'Morgan Stanley', 'offset': 50, 'similarityScore': 1.0, 'percentageOfSecondRank': 0.0}, {'URI': 'http://dbpedia.org/resource/Meta', 'support': 284, 'types': '', 'surfaceForm': 'Meta', 'offset': 76, 'similarityScore': 0.6003175138148634, 'percentageOfSecondRank': 0.34012761651987605}, {'URI': 'http://dbpedia.org/resource/Overweight', 'support': 613, 'types': 'Wikidata:Q12136,DBpedia:Disease', 'surfaceForm': 'overweight', 'offset': 97, 'similarityScore': 0.9460149563334597, 'percentageOfSecondRank': 0.05561223755337598}, {'URI': 'http://dbpedia.org/resource/Meta', 'support': 284, 'types': '', 'surfaceForm': 'Meta', 'offset': 149, 'similarityScore': 0.6003175138148634, 'percentageOfSecondRank': 0.34012761651987605}, {'URI': 'http://dbpedia.org/resource/CNBC', 'support': 3761, 'types': 'Wikidata:Q43229,Wikidata:Q24229398,Wikidata:Q15265344,DUL:SocialPerson,DUL:Agent,Schema:TelevisionStation,Schema:Organization,DBpedia:Organisation,DBpedia:Broadcaster,DBpedia:Agent,DBpedia:TelevisionStation', 'surfaceForm': 'CNBC', 'offset': 230, 'similarityScore': 0.999838681819667, 'percentageOfSecondRank': 0.00013138238452859062}, {'URI': 'http://dbpedia.org/resource/Twitter', 'support': 26059, 'types': 'Wikidata:Q386724,Schema:WebSite,Schema:CreativeWork,DBpedia:Work,DBpedia:Website', 'surfaceForm': 't.co', 'offset': 249, 'similarityScore': 1.0, 'percentageOfSecondRank': 0.0}]\n",
      "[{'URI': 'http://dbpedia.org/resource/J._Robert_Oppenheimer', 'support': 939, 'types': 'Http://xmlns.com/foaf/0.1/Person,Wikidata:Q901,Wikidata:Q5,Wikidata:Q24229398,Wikidata:Q215627,DUL:NaturalPerson,DUL:Agent,Schema:Person,DBpedia:Person,DBpedia:Agent,DBpedia:Scientist', 'surfaceForm': 'Oppenheimer', 'offset': 0, 'similarityScore': 0.9520423677029403, 'percentageOfSecondRank': 0.05035818504339254}, {'URI': 'http://dbpedia.org/resource/Dollar_General', 'support': 242, 'types': '', 'surfaceForm': 'Dollar General', 'offset': 16, 'similarityScore': 1.0, 'percentageOfSecondRank': 0.0}, {'URI': 'http://dbpedia.org/resource/Twitter', 'support': 26059, 'types': 'Wikidata:Q386724,Schema:WebSite,Schema:CreativeWork,DBpedia:Work,DBpedia:Website', 'surfaceForm': 't.co', 'offset': 109, 'similarityScore': 0.9999999999950262, 'percentageOfSecondRank': 0.0}]\n",
      "[{'URI': 'http://dbpedia.org/resource/Catalysis', 'support': 11025, 'types': '', 'surfaceForm': 'catalysts', 'offset': 57, 'similarityScore': 0.8943901896528755, 'percentageOfSecondRank': 0.11767559570812255}, {'URI': 'http://dbpedia.org/resource/Twitter', 'support': 26059, 'types': 'Wikidata:Q386724,Schema:WebSite,Schema:CreativeWork,DBpedia:Work,DBpedia:Website', 'surfaceForm': 't.co', 'offset': 76, 'similarityScore': 0.9999999999915019, 'percentageOfSecondRank': 0.0}]\n",
      "[{'URI': 'http://dbpedia.org/resource/Mizuho_Financial_Group', 'support': 108, 'types': 'Wikidata:Q4830453,Wikidata:Q43229,Wikidata:Q24229398,DUL:SocialPerson,DUL:Agent,Schema:Organization,Schema:BankOrCreditUnion,DBpedia:Organisation,DBpedia:Company,DBpedia:Agent,DBpedia:Bank', 'surfaceForm': 'Mizuho', 'offset': 0, 'similarityScore': 0.790122068832424, 'percentageOfSecondRank': 0.2656272232396727}, {'URI': 'http://dbpedia.org/resource/Kraft_Heinz', 'support': 110, 'types': '', 'surfaceForm': 'Kraft Heinz', 'offset': 43, 'similarityScore': 1.0, 'percentageOfSecondRank': 0.0}, {'URI': 'http://dbpedia.org/resource/Stock', 'support': 5580, 'types': '', 'surfaceForm': 'stock', 'offset': 58, 'similarityScore': 0.955836391811484, 'percentageOfSecondRank': 0.04211652388010239}, {'URI': 'http://dbpedia.org/resource/Rallying', 'support': 3295, 'types': '', 'surfaceForm': 'rally', 'offset': 73, 'similarityScore': 0.9876659032400533, 'percentageOfSecondRank': 0.008245547926003429}, {'URI': 'http://dbpedia.org/resource/Twitter', 'support': 26059, 'types': 'Wikidata:Q386724,Schema:WebSite,Schema:CreativeWork,DBpedia:Work,DBpedia:Website', 'surfaceForm': 't.co', 'offset': 102, 'similarityScore': 0.9999999999949978, 'percentageOfSecondRank': 0.0}]\n",
      "[{'URI': 'http://dbpedia.org/resource/Morningstar,_Inc.', 'support': 144, 'types': '', 'surfaceForm': 'Morningstar', 'offset': 0, 'similarityScore': 0.9813570399221019, 'percentageOfSecondRank': 0.011233660130719005}, {'URI': 'http://dbpedia.org/resource/Big_Four_tech_companies', 'support': 75, 'types': '', 'surfaceForm': 'FAANG', 'offset': 32, 'similarityScore': 0.9999999683527113, 'percentageOfSecondRank': 0.0}, {'URI': 'http://dbpedia.org/resource/Twitter', 'support': 26059, 'types': 'Wikidata:Q386724,Schema:WebSite,Schema:CreativeWork,DBpedia:Work,DBpedia:Website', 'surfaceForm': 't.co', 'offset': 86, 'similarityScore': 0.9999999999974136, 'percentageOfSecondRank': 0.0}]\n",
      "[{'URI': 'http://dbpedia.org/resource/Qualcomm', 'support': 1566, 'types': 'Wikidata:Q4830453,Wikidata:Q43229,Wikidata:Q24229398,DUL:SocialPerson,DUL:Agent,Schema:Organization,DBpedia:Organisation,DBpedia:Agent,DBpedia:Company', 'surfaceForm': 'Qualcomm', 'offset': 64, 'similarityScore': 0.9999999999963052, 'percentageOfSecondRank': 2.9373189643181604e-12}, {'URI': 'http://dbpedia.org/resource/CNBC', 'support': 3761, 'types': 'Wikidata:Q43229,Wikidata:Q24229398,Wikidata:Q15265344,DUL:SocialPerson,DUL:Agent,Schema:TelevisionStation,Schema:Organization,DBpedia:Organisation,DBpedia:Broadcaster,DBpedia:Agent,DBpedia:TelevisionStation', 'surfaceForm': 'CNBC', 'offset': 210, 'similarityScore': 0.9999128421340144, 'percentageOfSecondRank': 5.610172021488509e-05}, {'URI': 'http://dbpedia.org/resource/Twitter', 'support': 26059, 'types': 'Wikidata:Q386724,Schema:WebSite,Schema:CreativeWork,DBpedia:Work,DBpedia:Website', 'surfaceForm': 't.co', 'offset': 229, 'similarityScore': 1.0, 'percentageOfSecondRank': 0.0}]\n",
      "[{'URI': 'http://dbpedia.org/resource/Richard_Heinrich_Rosenblatt', 'support': 71, 'types': '', 'surfaceForm': 'Rosenblatt', 'offset': 0, 'similarityScore': 0.9029379936135655, 'percentageOfSecondRank': 0.10749441725770205}, {'URI': 'http://dbpedia.org/resource/Twitter', 'support': 26059, 'types': 'Wikidata:Q386724,Schema:WebSite,Schema:CreativeWork,DBpedia:Work,DBpedia:Website', 'surfaceForm': 'Twitter', 'offset': 20, 'similarityScore': 1.0, 'percentageOfSecondRank': 1.351009930117973e-15}, {'URI': 'http://dbpedia.org/resource/Mechanical_advantage', 'support': 400, 'types': '', 'surfaceForm': 'leverage', 'offset': 52, 'similarityScore': 0.6279078266137917, 'percentageOfSecondRank': 0.5925898601862498}, {'URI': 'http://dbpedia.org/resource/Elon_Musk', 'support': 1028, 'types': '', 'surfaceForm': 'Elon', 'offset': 66, 'similarityScore': 0.9999788617509111, 'percentageOfSecondRank': 2.1138669440353598e-05}, {'URI': 'http://dbpedia.org/resource/Twitter', 'support': 26059, 'types': 'Wikidata:Q386724,Schema:WebSite,Schema:CreativeWork,DBpedia:Work,DBpedia:Website', 'surfaceForm': 't.co', 'offset': 85, 'similarityScore': 1.0, 'percentageOfSecondRank': 0.0}]\n",
      "[{'URI': 'http://dbpedia.org/resource/Tesla_Model_3', 'support': 453, 'types': 'Schema:Product,DBpedia:MeanOfTransportation,DBpedia:Automobile', 'surfaceForm': 'Tesla', 'offset': 71, 'similarityScore': 0.5454786544775282, 'percentageOfSecondRank': 0.5461924375952145}, {'URI': 'http://dbpedia.org/resource/CNBC', 'support': 3761, 'types': 'Wikidata:Q43229,Wikidata:Q24229398,Wikidata:Q15265344,DUL:SocialPerson,DUL:Agent,Schema:TelevisionStation,Schema:Organization,DBpedia:Organisation,DBpedia:Broadcaster,DBpedia:Agent,DBpedia:TelevisionStation', 'surfaceForm': 'CNBC', 'offset': 186, 'similarityScore': 0.999943294901165, 'percentageOfSecondRank': 4.1449806691838595e-05}, {'URI': 'http://dbpedia.org/resource/Twitter', 'support': 26059, 'types': 'Wikidata:Q386724,Schema:WebSite,Schema:CreativeWork,DBpedia:Work,DBpedia:Website', 'surfaceForm': 't.co', 'offset': 205, 'similarityScore': 1.0, 'percentageOfSecondRank': 0.0}]\n",
      "[{'URI': 'http://dbpedia.org/resource/Canaccord_Genuity', 'support': 42, 'types': '', 'surfaceForm': 'Canaccord Genuity', 'offset': 0, 'similarityScore': 1.0, 'percentageOfSecondRank': 0.0}, {'URI': 'http://dbpedia.org/resource/Rivian', 'support': 40, 'types': '', 'surfaceForm': 'Rivian', 'offset': 23, 'similarityScore': 0.999999942359496, 'percentageOfSecondRank': 0.0}, {'URI': 'http://dbpedia.org/resource/Stock', 'support': 5580, 'types': '', 'surfaceForm': 'stock', 'offset': 32, 'similarityScore': 0.7818323279013316, 'percentageOfSecondRank': 0.23517671558928574}, {'URI': 'http://dbpedia.org/resource/Twitter', 'support': 26059, 'types': 'Wikidata:Q386724,Schema:WebSite,Schema:CreativeWork,DBpedia:Work,DBpedia:Website', 'surfaceForm': 't.co', 'offset': 68, 'similarityScore': 0.999999999979309, 'percentageOfSecondRank': 0.0}]\n",
      "[{'URI': 'http://dbpedia.org/resource/Prime_Video', 'support': 1688, 'types': 'Wikidata:Q386724,Schema:WebSite,Schema:CreativeWork,DBpedia:Work,DBpedia:Website', 'surfaceForm': 'Amazon', 'offset': 44, 'similarityScore': 0.998976806869106, 'percentageOfSecondRank': 0.0007090697149206921}, {'URI': 'http://dbpedia.org/resource/Apple_Inc.', 'support': 16288, 'types': 'Wikidata:Q4830453,Wikidata:Q43229,Wikidata:Q24229398,DUL:SocialPerson,DUL:Agent,Schema:Organization,Schema:BankOrCreditUnion,DBpedia:Organisation,DBpedia:Company,DBpedia:Agent,DBpedia:Bank', 'surfaceForm': 'Apple', 'offset': 52, 'similarityScore': 0.9999896185760802, 'percentageOfSecondRank': 8.678145620747403e-06}, {'URI': 'http://dbpedia.org/resource/Tesla_Model_3', 'support': 453, 'types': 'Schema:Product,DBpedia:MeanOfTransportation,DBpedia:Automobile', 'surfaceForm': 'Tesla', 'offset': 59, 'similarityScore': 0.5231764670436971, 'percentageOfSecondRank': 0.774313881988203}, {'URI': 'http://dbpedia.org/resource/Netflix', 'support': 15512, 'types': '', 'surfaceForm': 'Netflix', 'offset': 66, 'similarityScore': 0.9999999999999432, 'percentageOfSecondRank': 0.0}, {'URI': 'http://dbpedia.org/resource/Twitter', 'support': 26059, 'types': 'Wikidata:Q386724,Schema:WebSite,Schema:CreativeWork,DBpedia:Work,DBpedia:Website', 'surfaceForm': 'Twitter', 'offset': 75, 'similarityScore': 1.0, 'percentageOfSecondRank': 1.576203794059104e-15}, {'URI': 'http://dbpedia.org/resource/Snowflake', 'support': 243, 'types': '', 'surfaceForm': 'Snowflake', 'offset': 84, 'similarityScore': 0.9979376022172801, 'percentageOfSecondRank': 0.002066658996540676}, {'URI': 'http://dbpedia.org/resource/Twitter', 'support': 26059, 'types': 'Wikidata:Q386724,Schema:WebSite,Schema:CreativeWork,DBpedia:Work,DBpedia:Website', 'surfaceForm': 't.co', 'offset': 114, 'similarityScore': 1.0, 'percentageOfSecondRank': 0.0}]\n"
     ]
    }
   ],
   "source": [
    "for index, data in df_test.items():\n",
    "    annotations = spotlight.annotate('https://api.dbpedia-spotlight.org/en/annotate',data, confidence=0.4, support=20)\n",
    "    print(annotations)"
   ]
  }
 ],
 "metadata": {
  "kernelspec": {
   "display_name": "base",
   "language": "python",
   "name": "python3"
  },
  "language_info": {
   "codemirror_mode": {
    "name": "ipython",
    "version": 3
   },
   "file_extension": ".py",
   "mimetype": "text/x-python",
   "name": "python",
   "nbconvert_exporter": "python",
   "pygments_lexer": "ipython3",
   "version": "3.12.0"
  }
 },
 "nbformat": 4,
 "nbformat_minor": 2
}
