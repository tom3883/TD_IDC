{
 "cells": [
  {
   "cell_type": "code",
   "execution_count": 22,
   "metadata": {},
   "outputs": [
    {
     "data": {
      "text/plain": [
       "[{'URI': 'http://dbpedia.org/resource/Berlin',\n",
       "  'support': 87107,\n",
       "  'types': 'Wikidata:Q515,Wikidata:Q486972,Schema:Place,Schema:City,DBpedia:Settlement,DBpedia:PopulatedPlace,DBpedia:Place,DBpedia:Location,DBpedia:City',\n",
       "  'surfaceForm': 'Berlin',\n",
       "  'offset': 0,\n",
       "  'similarityScore': 0.9983656061097194,\n",
       "  'percentageOfSecondRank': 0.0008228013211064525},\n",
       " {'URI': 'http://dbpedia.org/resource/City',\n",
       "  'support': 22610,\n",
       "  'types': '',\n",
       "  'surfaceForm': 'city',\n",
       "  'offset': 34,\n",
       "  'similarityScore': 0.8720405806057635,\n",
       "  'percentageOfSecondRank': 0.10547609042001196},\n",
       " {'URI': 'http://dbpedia.org/resource/Germany',\n",
       "  'support': 222752,\n",
       "  'types': 'Wikidata:Q6256,Schema:Place,Schema:Country,DBpedia:PopulatedPlace,DBpedia:Place,DBpedia:Location,DBpedia:Country',\n",
       "  'surfaceForm': 'Germany',\n",
       "  'offset': 42,\n",
       "  'similarityScore': 0.9959557085639706,\n",
       "  'percentageOfSecondRank': 0.0024005027968948783}]"
      ]
     },
     "execution_count": 22,
     "metadata": {},
     "output_type": "execute_result"
    }
   ],
   "source": [
    "import spotlight\n",
    "annotations = spotlight.annotate('https://api.dbpedia-spotlight.org/en/annotate',\n",
    "    'Berlin is the capital and largest city of Germany',confidence=0.4,support = 20)\n",
    "annotations"
   ]
  },
  {
   "cell_type": "code",
   "execution_count": 23,
   "metadata": {},
   "outputs": [],
   "source": [
    "from SPARQLWrapper import SPARQLWrapper, JSON\n",
    "import pandas as pd\n",
    "endpoint = \"https://fr.dbpedia.org/sparql\"\n",
    "def sparql_to_dataframe(endpoint, query):\n",
    "    \"\"\"\n",
    "    Convert SPARQL results into a Pandas DataFrame.\n",
    "    Credit: https://lawlesst.github.io/notebook/sparql-dataframe.html\n",
    "    \"\"\"\n",
    "    sparql = SPARQLWrapper(endpoint)\n",
    "    sparql.setQuery(query)\n",
    "    sparql.setReturnFormat(JSON)\n",
    "    results = sparql.queryAndConvert()\n",
    "\n",
    "    cols = results['head']['vars']\n",
    "    out = []\n",
    "    for row in results['results']['bindings']:\n",
    "        item = []\n",
    "        for c in cols:\n",
    "            item.append(row.get(c, {}).get('value'))\n",
    "        out.append(item)\n",
    "\n",
    "    return pd.DataFrame(out, columns=cols)\n"
   ]
  },
  {
   "cell_type": "code",
   "execution_count": 30,
   "metadata": {},
   "outputs": [],
   "source": [
    "def test():\n",
    "    return '''\n",
    "select * where {\n",
    "    <http://dbpedia.org/resource/Germany> rdfs:comment ?y.\n",
    " }'''"
   ]
  },
  {
   "cell_type": "code",
   "execution_count": 26,
   "metadata": {},
   "outputs": [],
   "source": [
    "def retrieveTest(endpoint) :\n",
    "    query = test()\n",
    "    result = sparql_to_dataframe(endpoint, query)\n",
    "    return result"
   ]
  },
  {
   "cell_type": "code",
   "execution_count": 31,
   "metadata": {},
   "outputs": [
    {
     "data": {
      "text/html": [
       "<div>\n",
       "<style scoped>\n",
       "    .dataframe tbody tr th:only-of-type {\n",
       "        vertical-align: middle;\n",
       "    }\n",
       "\n",
       "    .dataframe tbody tr th {\n",
       "        vertical-align: top;\n",
       "    }\n",
       "\n",
       "    .dataframe thead th {\n",
       "        text-align: right;\n",
       "    }\n",
       "</style>\n",
       "<table border=\"1\" class=\"dataframe\">\n",
       "  <thead>\n",
       "    <tr style=\"text-align: right;\">\n",
       "      <th></th>\n",
       "      <th>y</th>\n",
       "    </tr>\n",
       "  </thead>\n",
       "  <tbody>\n",
       "  </tbody>\n",
       "</table>\n",
       "</div>"
      ],
      "text/plain": [
       "Empty DataFrame\n",
       "Columns: [y]\n",
       "Index: []"
      ]
     },
     "execution_count": 31,
     "metadata": {},
     "output_type": "execute_result"
    }
   ],
   "source": [
    "retrieveTest(endpoint)"
   ]
  }
 ],
 "metadata": {
  "kernelspec": {
   "display_name": "base",
   "language": "python",
   "name": "python3"
  },
  "language_info": {
   "codemirror_mode": {
    "name": "ipython",
    "version": 3
   },
   "file_extension": ".py",
   "mimetype": "text/x-python",
   "name": "python",
   "nbconvert_exporter": "python",
   "pygments_lexer": "ipython3",
   "version": "3.10.10"
  }
 },
 "nbformat": 4,
 "nbformat_minor": 2
}
