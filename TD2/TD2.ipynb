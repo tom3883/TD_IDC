{
 "cells": [
  {
   "cell_type": "code",
   "execution_count": 1,
   "metadata": {},
   "outputs": [
    {
     "data": {
      "text/plain": [
       "[{'URI': 'http://dbpedia.org/resource/Berlin',\n",
       "  'support': 87107,\n",
       "  'types': 'Wikidata:Q515,Wikidata:Q486972,Schema:Place,Schema:City,DBpedia:Settlement,DBpedia:PopulatedPlace,DBpedia:Place,DBpedia:Location,DBpedia:City',\n",
       "  'surfaceForm': 'Berlin',\n",
       "  'offset': 0,\n",
       "  'similarityScore': 0.9983656061097194,\n",
       "  'percentageOfSecondRank': 0.0008228013211064525},\n",
       " {'URI': 'http://dbpedia.org/resource/City',\n",
       "  'support': 22610,\n",
       "  'types': '',\n",
       "  'surfaceForm': 'city',\n",
       "  'offset': 34,\n",
       "  'similarityScore': 0.8720405806057635,\n",
       "  'percentageOfSecondRank': 0.10547609042001196},\n",
       " {'URI': 'http://dbpedia.org/resource/Germany',\n",
       "  'support': 222752,\n",
       "  'types': 'Wikidata:Q6256,Schema:Place,Schema:Country,DBpedia:PopulatedPlace,DBpedia:Place,DBpedia:Location,DBpedia:Country',\n",
       "  'surfaceForm': 'Germany',\n",
       "  'offset': 42,\n",
       "  'similarityScore': 0.9959557085639706,\n",
       "  'percentageOfSecondRank': 0.0024005027968948783}]"
      ]
     },
     "execution_count": 1,
     "metadata": {},
     "output_type": "execute_result"
    }
   ],
   "source": [
    "import spotlight\n",
    "annotations = spotlight.annotate('https://api.dbpedia-spotlight.org/en/annotate',\n",
    "    'Berlin is the capital and largest city of Germany',confidence=0.4,support = 20)\n",
    "annotations"
   ]
  },
  {
   "cell_type": "code",
   "execution_count": 2,
   "metadata": {},
   "outputs": [
    {
     "data": {
      "text/plain": [
       "'http://dbpedia.org/resource/Berlin'"
      ]
     },
     "execution_count": 2,
     "metadata": {},
     "output_type": "execute_result"
    }
   ],
   "source": [
    "annotations[0][\"URI\"]"
   ]
  },
  {
   "cell_type": "code",
   "execution_count": 3,
   "metadata": {},
   "outputs": [],
   "source": [
    "def getURIs(json):\n",
    "    URIs = []\n",
    "    for obj in json:\n",
    "        URIs.append(obj[\"URI\"])\n",
    "\n",
    "    return URIs\n",
    "URIs = getURIs(annotations)"
   ]
  },
  {
   "cell_type": "code",
   "execution_count": 4,
   "metadata": {},
   "outputs": [],
   "source": [
    "from SPARQLWrapper import SPARQLWrapper, JSON\n",
    "import pandas as pd\n",
    "endpoint = \"https://dbpedia.org/sparql\"\n",
    "def sparql_to_dataframe(endpoint, query):\n",
    "    \"\"\"\n",
    "    Convert SPARQL results into a Pandas DataFrame.\n",
    "    Credit: https://lawlesst.github.io/notebook/sparql-dataframe.html\n",
    "    \"\"\"\n",
    "    sparql = SPARQLWrapper(endpoint)\n",
    "    sparql.setQuery(query)\n",
    "    sparql.setReturnFormat(JSON)\n",
    "    results = sparql.queryAndConvert()\n",
    "\n",
    "    cols = results['head']['vars']\n",
    "    out = []\n",
    "    for row in results['results']['bindings']:\n",
    "        item = []\n",
    "        for c in cols:\n",
    "            item.append(row.get(c, {}).get('value'))\n",
    "        out.append(item)\n",
    "\n",
    "    return pd.DataFrame(out, columns=cols)\n"
   ]
  },
  {
   "cell_type": "code",
   "execution_count": 5,
   "metadata": {},
   "outputs": [],
   "source": [
    "def getInfo(URI):\n",
    "    return '''\n",
    "select * where {\n",
    "    <%s> dbo:abstract ?y.\n",
    "    filter(lang(?y)=\"en\")\n",
    " }'''%(URI)"
   ]
  },
  {
   "cell_type": "code",
   "execution_count": 6,
   "metadata": {},
   "outputs": [],
   "source": [
    "def retrieveInfo(endpoint,uri) :\n",
    "    query = getInfo(uri)\n",
    "    result = sparql_to_dataframe(endpoint, query)\n",
    "    if len(result)>0:\n",
    "        result = result.iloc[0][0]\n",
    "    else:\n",
    "        result = \"No more data\"\n",
    "    return result"
   ]
  },
  {
   "cell_type": "code",
   "execution_count": 8,
   "metadata": {},
   "outputs": [
    {
     "data": {
      "text/html": [
       "<div>\n",
       "<style scoped>\n",
       "    .dataframe tbody tr th:only-of-type {\n",
       "        vertical-align: middle;\n",
       "    }\n",
       "\n",
       "    .dataframe tbody tr th {\n",
       "        vertical-align: top;\n",
       "    }\n",
       "\n",
       "    .dataframe thead th {\n",
       "        text-align: right;\n",
       "    }\n",
       "</style>\n",
       "<table border=\"1\" class=\"dataframe\">\n",
       "  <thead>\n",
       "    <tr style=\"text-align: right;\">\n",
       "      <th></th>\n",
       "      <th>text</th>\n",
       "      <th>label</th>\n",
       "    </tr>\n",
       "  </thead>\n",
       "  <tbody>\n",
       "    <tr>\n",
       "      <th>0</th>\n",
       "      <td>Here are Thursday's biggest analyst calls: App...</td>\n",
       "      <td>0</td>\n",
       "    </tr>\n",
       "    <tr>\n",
       "      <th>1</th>\n",
       "      <td>Buy Las Vegas Sands as travel to Singapore bui...</td>\n",
       "      <td>0</td>\n",
       "    </tr>\n",
       "    <tr>\n",
       "      <th>2</th>\n",
       "      <td>Piper Sandler downgrades DocuSign to sell, cit...</td>\n",
       "      <td>0</td>\n",
       "    </tr>\n",
       "    <tr>\n",
       "      <th>3</th>\n",
       "      <td>Analysts react to Tesla's latest earnings, bre...</td>\n",
       "      <td>0</td>\n",
       "    </tr>\n",
       "    <tr>\n",
       "      <th>4</th>\n",
       "      <td>Netflix and its peers are set for a ‘return to...</td>\n",
       "      <td>0</td>\n",
       "    </tr>\n",
       "  </tbody>\n",
       "</table>\n",
       "</div>"
      ],
      "text/plain": [
       "                                                text  label\n",
       "0  Here are Thursday's biggest analyst calls: App...      0\n",
       "1  Buy Las Vegas Sands as travel to Singapore bui...      0\n",
       "2  Piper Sandler downgrades DocuSign to sell, cit...      0\n",
       "3  Analysts react to Tesla's latest earnings, bre...      0\n",
       "4  Netflix and its peers are set for a ‘return to...      0"
      ]
     },
     "execution_count": 8,
     "metadata": {},
     "output_type": "execute_result"
    }
   ],
   "source": [
    "df_train = pd.read_csv('data_train.csv')\n",
    "df_train.head()"
   ]
  },
  {
   "cell_type": "code",
   "execution_count": 43,
   "metadata": {},
   "outputs": [
    {
     "data": {
      "text/html": [
       "<div>\n",
       "<style scoped>\n",
       "    .dataframe tbody tr th:only-of-type {\n",
       "        vertical-align: middle;\n",
       "    }\n",
       "\n",
       "    .dataframe tbody tr th {\n",
       "        vertical-align: top;\n",
       "    }\n",
       "\n",
       "    .dataframe thead th {\n",
       "        text-align: right;\n",
       "    }\n",
       "</style>\n",
       "<table border=\"1\" class=\"dataframe\">\n",
       "  <thead>\n",
       "    <tr style=\"text-align: right;\">\n",
       "      <th></th>\n",
       "      <th>text</th>\n",
       "      <th>label</th>\n",
       "    </tr>\n",
       "  </thead>\n",
       "  <tbody>\n",
       "    <tr>\n",
       "      <th>0</th>\n",
       "      <td>Analyst call of the day for @CNBCPro subscribe...</td>\n",
       "      <td>0</td>\n",
       "    </tr>\n",
       "    <tr>\n",
       "      <th>1</th>\n",
       "      <td>Loop upgrades CSX to buy, says it's a good pla...</td>\n",
       "      <td>0</td>\n",
       "    </tr>\n",
       "    <tr>\n",
       "      <th>2</th>\n",
       "      <td>BofA believes we're already in a recession — a...</td>\n",
       "      <td>0</td>\n",
       "    </tr>\n",
       "    <tr>\n",
       "      <th>3</th>\n",
       "      <td>JPMorgan sees these derivative plays as best w...</td>\n",
       "      <td>0</td>\n",
       "    </tr>\n",
       "    <tr>\n",
       "      <th>4</th>\n",
       "      <td>Morgan Stanley's Huberty sees Apple earnings m...</td>\n",
       "      <td>0</td>\n",
       "    </tr>\n",
       "  </tbody>\n",
       "</table>\n",
       "</div>"
      ],
      "text/plain": [
       "                                                text  label\n",
       "0  Analyst call of the day for @CNBCPro subscribe...      0\n",
       "1  Loop upgrades CSX to buy, says it's a good pla...      0\n",
       "2  BofA believes we're already in a recession — a...      0\n",
       "3  JPMorgan sees these derivative plays as best w...      0\n",
       "4  Morgan Stanley's Huberty sees Apple earnings m...      0"
      ]
     },
     "execution_count": 43,
     "metadata": {},
     "output_type": "execute_result"
    }
   ],
   "source": [
    "df_test = pd.read_csv('data_test.csv')\n",
    "df_test.head()"
   ]
  },
  {
   "cell_type": "code",
   "execution_count": 44,
   "metadata": {},
   "outputs": [
    {
     "data": {
      "text/plain": [
       "0    Analyst call of the day for @CNBCPro subscribe...\n",
       "1    Loop upgrades CSX to buy, says it's a good pla...\n",
       "Name: text, dtype: object"
      ]
     },
     "execution_count": 44,
     "metadata": {},
     "output_type": "execute_result"
    }
   ],
   "source": [
    "df_test = df_test.iloc[:2,0]\n",
    "df_test.head()"
   ]
  },
  {
   "cell_type": "code",
   "execution_count": 50,
   "metadata": {},
   "outputs": [],
   "source": [
    "def modifyText(text,index,modification):\n",
    "    part1 = text[:index]\n",
    "    part2 = text[index:]\n",
    "    part1 +=\"[\"+modification+\"] \"\n",
    "    part1 += part2\n",
    "    return part1\n",
    "\n",
    "def modify(tweet):\n",
    "    modified = tweet\n",
    "    annotations = spotlight.annotate('https://api.dbpedia-spotlight.org/en/annotate',\n",
    "    tweet,confidence=0.4,support = 20)\n",
    "    URIs = getURIs(annotations)\n",
    "    for k in range(len(annotations)):\n",
    "        j = len(annotations)-k-1\n",
    "        infos = retrieveInfo(endpoint,annotations[j][\"URI\"])\n",
    "        index = len(annotations[j][\"surfaceForm\"]) + annotations[j][\"offset\"]\n",
    "        modified = modifyText(modified,index,infos)\n",
    "    return modified\n",
    "        \n"
   ]
  },
  {
   "cell_type": "code",
   "execution_count": 51,
   "metadata": {},
   "outputs": [
    {
     "name": "stderr",
     "output_type": "stream",
     "text": [
      "C:\\Users\\nicol\\AppData\\Local\\Temp\\ipykernel_5116\\3338115639.py:4: FutureWarning: The frame.append method is deprecated and will be removed from pandas in a future version. Use pandas.concat instead.\n",
      "  df = df.append({\"original\":data,\"modified\":modified}, ignore_index=True)\n",
      "C:\\Users\\nicol\\AppData\\Local\\Temp\\ipykernel_5116\\3338115639.py:4: FutureWarning: The frame.append method is deprecated and will be removed from pandas in a future version. Use pandas.concat instead.\n",
      "  df = df.append({\"original\":data,\"modified\":modified}, ignore_index=True)\n"
     ]
    }
   ],
   "source": [
    "df = pd.DataFrame()\n",
    "for index, data in df_test.items():\n",
    "    modified = modify(data)\n",
    "    df = df.append({\"original\":data,\"modified\":modified}, ignore_index=True)"
   ]
  },
  {
   "cell_type": "code",
   "execution_count": 52,
   "metadata": {},
   "outputs": [
    {
     "name": "stdout",
     "output_type": "stream",
     "text": [
      "Analyst call of the day for @CNBCPro subscribers: Goldman Sachs reiterates Exxon as buy and says it’s bullish heading into earnings next week.  Subscribe to see the analyst calls of the day curated by CNBC Pro.  https://t.co/q2fXwZqMZ4\n",
      "Analyst call of the day for @CNBCPro subscribers: Goldman Sachs[Goldman Sachs (/ˈsæks/) is an American multinational investment bank and financial services company. Founded in 1869, Goldman Sachs is headquartered at 200 West Street in Lower Manhattan, with regional headquarters in London, Warsaw, Bangalore, Hong Kong, Tokyo, Dallas and Salt Lake City, and additional offices in other international financial centers. Goldman Sachs is the second largest investment bank in the world by revenue and is ranked 57th on the Fortune 500 list of the largest United States corporations by total revenue. It is considered a systemically important financial institution by the Financial Stability Board. The company has been criticized for a lack of ethical standards, working with dictatorial regimes, close relationships with the U.S. federal government via a \"revolving door\" of former employees, and driving up prices of commodities through futures speculation. While the company has appeared on the 100 Best Companies to Work For list compiled by Fortune, primarily due to its high compensation levels, it has also been criticized by its employees for 100-hour work weeks, high levels of employee dissatisfaction among first-year analysts, abusive treatment by superiors, a lack of mental health resources, and extremely high levels of stress in the workplace leading to physical discomfort. The company invests in and arranges financing for startups, and in many cases gets additional business when the companies launch initial public offerings. Notable initial public offerings for which Goldman Sachs was the lead bookrunner include those of Twitter, Bumble, Robinhood Markets. Startups in which the company or its funds have invested include Spotify, Foodpanda, and Dropbox, among others. It is a partner organization of the World Economic Forum.]  reiterates Exxon[No more data]  as buy and says it’s bullish[Market sentiment, also known as investor attention, is the general prevailing attitude of investors as to anticipated price development in a market. This attitude is the accumulation of a variety of fundamental and technical factors, including price history, economic reports, seasonal factors, and national and world events. If investors expect upward price movement in the stock market, the sentiment is said to be bullish. On the contrary, if the market sentiment is bearish, most investors expect downward price movement. Market participants who maintain a static sentiment, regardless of market conditions, are described as permabulls and permabears respectively. Market sentiment is usually considered as a contrarian indicator: what most people expect is a good thing to bet against. Market sentiment is used because it is believed to be a good predictor of market moves, especially when it is more extreme. Very bearish sentiment is usually followed by the market going up more than normal, and vice versa. A bull market refers to a sustained period of either realized or expected price rises, whereas a bear market is used to describe when an index or stock has fallen 20% or more from a recent high for a sustained length of time. Market sentiment is monitored with a variety of technical and statistical methods such as the number of advancing versus declining stocks and new highs versus new lows comparisons. A large share of the overall movement of an individual stock has been attributed to market sentiment. The stock market's demonstration of the situation is often described as all boats float or sink with the tide, in the popular Wall Street phrase \"the trend is your friend\". In the last decade, investors are also known to measure market sentiment through the use of news analytics, which include sentiment analysis on textual stories about companies and sectors.]  heading into earnings next week.  Subscribe to see the analyst calls of the day curated by CNBC[CNBC (formerly Consumer News and Business Channel) is an American basic cable business news channel. It provides business news programming on weekdays from 5:00 a.m. to 7:00 p.m., Eastern Time, while broadcasting talk shows, investigative reports, documentaries, infomercials, reality shows, and other programs at all other times. Along with Fox Business and Bloomberg Television, it is one of the three major business news channels. It also operates a website and mobile apps, whereby users can watch the channel via streaming media, and which provide some content that is only accessible to paid subscribers. CNBC content is available on demand on smart speakers including Amazon Echo devices with Amazon Alexa, Google Home and app devices with Google Assistant, and on Apple Siri voice interfaces including iPhones. Many CNBC TV shows are available as podcasts for on-demand listening. Graphics are designed by Sweden-based Magoo 3D studios. CNBC is a division of NBCUniversal News Group, a subsidiary of NBCUniversal, which is owned by Comcast. It is headquartered in Englewood Cliffs, New Jersey. In addition to the domestic U.S. feed, there are several international editions on the list of CNBC channels, although many just license the CNBC name. Examples include CNBC World, CNBC Europe, CNBC Asia, Class CNBC in Italy, CNBC Indonesia in Indonesia, CNBC Arabiya in the UAE, Nikkei CNBC in Japan, CNBC TV18, CNBC Awaaz, and CNBC Baazar (A special Gujarati language channel) in India, and GNN/CNBC Pakistan in Pakistan.]  Pro.  https://t.co[Twitter is a microblogging, social networking service owned by American company Twitter, Inc., on which users post and interact with messages known as \"tweets\". Registered users can post, like, and retweet tweets, while unregistered users only have the ability to read public tweets. Users interact with Twitter through browser or mobile frontend software, or programmatically via its APIs. Before April 2020, services were accessible via SMS. Tweets were originally restricted to 140 characters, but the limit was doubled to 280 for non-CJK languages in November 2017. Audio and video tweets remain limited to 140 seconds for most accounts. Twitter was created by Jack Dorsey, Noah Glass, Biz Stone, and Evan Williams in March 2006 and launched in July of that year. Twitter, Inc. is based in San Francisco, California and has more than 25 offices around the world. By 2012, more than 100 million users posted 340 million tweets a day, and the service handled an average of 1.6 billion search queries per day. In 2013, it was one of the ten most-visited websites and has been described as \"the SMS of the Internet\". By the start of 2019, Twitter had more than 330 million monthly active users. In practice, the vast majority of tweets are written by a minority of users. As of 2020, fake accounts were estimated to make up 15% of Twitter accounts, approximately 48 million accounts. On April 25, 2022, the Twitter board of directors agreed to a $44 billion buyout by Elon Musk, making it one of the biggest deals to take a company private. After a protracted period of controversy and legal battles, the deal closed on October 27. Following Musk's takeover, Twitter has been criticized for increasingly promoting hate speech, followed by advertiser moratoriums, mass firings and mass quitting.] /q2fXwZqMZ4\n"
     ]
    }
   ],
   "source": [
    "print(df.iloc[0,0])\n",
    "print(df.iloc[0,1])"
   ]
  }
 ],
 "metadata": {
  "kernelspec": {
   "display_name": "base",
   "language": "python",
   "name": "python3"
  },
  "language_info": {
   "codemirror_mode": {
    "name": "ipython",
    "version": 3
   },
   "file_extension": ".py",
   "mimetype": "text/x-python",
   "name": "python",
   "nbconvert_exporter": "python",
   "pygments_lexer": "ipython3",
   "version": "3.12.0"
  }
 },
 "nbformat": 4,
 "nbformat_minor": 2
}
