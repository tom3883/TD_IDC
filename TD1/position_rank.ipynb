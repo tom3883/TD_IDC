{
 "cells": [
  {
   "cell_type": "markdown",
   "metadata": {},
   "source": [
    "# Position Rank Keyphrase Extraction\n",
    "\n",
    "The goal of this notebook is to have a look at a few keyphrases extracted by Position Rank and compare them with the labels of the document"
   ]
  },
  {
   "cell_type": "code",
   "execution_count": 11,
   "metadata": {},
   "outputs": [],
   "source": [
    "import pandas as pd\n",
    "import pke\n",
    "from rouge import Rouge\n",
    "from os import listdir\n",
    "import spacy\n",
    "nlp = spacy.load(\"en_core_web_sm\")\n",
    "import time"
   ]
  },
  {
   "cell_type": "code",
   "execution_count": 7,
   "metadata": {},
   "outputs": [],
   "source": [
    "pos = {'NOUN', 'PROPN', 'ADJ'}\n",
    "grammar = \"NP: {<ADJ>*<NOUN|PROPN>+}\"\n",
    "\n",
    "# Extractors\n",
    "position_rank_extractor = pke.unsupervised.PositionRank()"
   ]
  },
  {
   "cell_type": "code",
   "execution_count": 8,
   "metadata": {},
   "outputs": [],
   "source": [
    "def extract_keyphrases(extractor, doc, index, grammar=None, text_rank=None, pos=None):\n",
    "    try:\n",
    "        # load the content of the document\n",
    "        extractor.load_document(input=doc, language='en', normalization=None)\n",
    "\n",
    "        # select the noun phrases up to 3 words as keyphrase candidates\n",
    "        if grammar is not None:\n",
    "            extractor.candidate_selection(grammar=grammar, maximum_word_number=3)\n",
    "        else:\n",
    "            extractor.candidate_selection()\n",
    "\n",
    "        # weight the candidates using the sum of their word's scores\n",
    "        # computed using random walk biaised with the position of the words\n",
    "        # in the document. In the graph, nodes are words (nouns and\n",
    "        # adjectives only) that are connected if they occur in a window of\n",
    "        # 10 words.\n",
    "        if text_rank:\n",
    "            extractor.candidate_weighting(window=10, pos=pos, top_percent=0.33)\n",
    "        else:\n",
    "            extractor.candidate_weighting(window=10, pos=pos)\n",
    "\n",
    "        # get the 10-highest scored candidates as keyphrases\n",
    "        keyphrases = extractor.get_n_best(n=10)\n",
    "\n",
    "        if keyphrases is not None and keyphrases:\n",
    "            res = f\"{index} : {keyphrases[0][0]}\"\n",
    "        else:\n",
    "            res = f\"{index} : None\"\n",
    "\n",
    "    except Exception as e:\n",
    "        # Handle specific exceptions if needed\n",
    "        res = f\"Error processing {index}: {str(e)}\"\n",
    "\n",
    "    # return the most predominant keyphrase\n",
    "    return res"
   ]
  },
  {
   "cell_type": "code",
   "execution_count": 9,
   "metadata": {},
   "outputs": [],
   "source": [
    "def get_keyphrases(limitSize):\n",
    "    all_keyphrases = []\n",
    "\n",
    "    dir = \"Inspec/docsutf8/\"\n",
    "\n",
    "    for i in range(0, limitSize):\n",
    "        try:\n",
    "            with open(f\"{dir}/{i}.txt\") as inspec_file:\n",
    "                doc = inspec_file.read()\n",
    "            print(f\"Processing file {i}.txt\", end='\\r')\n",
    "        except:\n",
    "            continue\n",
    "\n",
    "        keyphrase = extract_keyphrases(position_rank_extractor, doc, i, grammar)\n",
    "        \n",
    "        all_keyphrases.append(keyphrase)\n",
    "\n",
    "    return all_keyphrases"
   ]
  },
  {
   "cell_type": "code",
   "execution_count": 10,
   "metadata": {},
   "outputs": [
    {
     "name": "stdout",
     "output_type": "stream",
     "text": [
      "['2 : wavelength services', '3 : new cash', '4 : cheap company stock', '6 : regulatory compliance efforts', '7 : new anti-spam act', '8 : global crossing', '9 : competitive capabilities', '11 : cognitive social capital']\n"
     ]
    }
   ],
   "source": [
    "# extract keyphrases of the first 8 documents\n",
    "all_keyphrases = get_keyphrases(12)\n",
    "\n",
    "print(all_keyphrases)"
   ]
  },
  {
   "cell_type": "markdown",
   "metadata": {},
   "source": [
    "Overall, keyphrases extracted do not correspond to anotated keys. We only have 2 correct keyphrases out of the 8 documents\n",
    "\n",
    "Here are the keys : \n",
    "\n",
    "[ \n",
    " 2 : wavelength services\n",
    " 3 : telecom\n",
    " 4 : telecom industry\n",
    " 6 : SBC Communications\n",
    " 7 : Sprint\n",
    " 8 : Hutchison Telecommunications\n",
    " 9 : competitive capabilities\n",
    " 11 : innovation\n",
    "]"
   ]
  }
 ],
 "metadata": {
  "kernelspec": {
   "display_name": "Python 3",
   "language": "python",
   "name": "python3"
  },
  "language_info": {
   "codemirror_mode": {
    "name": "ipython",
    "version": 3
   },
   "file_extension": ".py",
   "mimetype": "text/x-python",
   "name": "python",
   "nbconvert_exporter": "python",
   "pygments_lexer": "ipython3",
   "version": "3.11.5"
  }
 },
 "nbformat": 4,
 "nbformat_minor": 2
}
