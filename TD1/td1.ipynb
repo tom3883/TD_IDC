{
 "cells": [
  {
   "cell_type": "markdown",
   "metadata": {},
   "source": [
    "# TD1"
   ]
  },
  {
   "cell_type": "markdown",
   "metadata": {},
   "source": [
    "### Imports"
   ]
  },
  {
   "cell_type": "code",
   "execution_count": 14,
   "metadata": {},
   "outputs": [],
   "source": [
    "import pandas as pd\n",
    "import pke\n",
    "from rouge import Rouge\n",
    "import spacy\n",
    "nlp = spacy.load(\"en_core_web_sm\")"
   ]
  },
  {
   "cell_type": "code",
   "execution_count": 15,
   "metadata": {},
   "outputs": [],
   "source": [
    "# Defining constants\n",
    "# pos and grammar for Position Rank\n",
    "pos = {'NOUN', 'PROPN', 'ADJ'}\n",
    "grammar = \"NP: {<ADJ>*<NOUN|PROPN>+}\"\n",
    "\n",
    "# Extractors\n",
    "position_rank_extractor = pke.unsupervised.PositionRank()\n",
    "single_rank_extractor = pke.unsupervised.SingleRank()\n",
    "\n",
    "rouge = Rouge()\n",
    "\n",
    "# Scores\n",
    "all_scores_pr = []\n",
    "all_scores_sr = []"
   ]
  },
  {
   "cell_type": "code",
   "execution_count": 16,
   "metadata": {},
   "outputs": [],
   "source": [
    "def extract_keyphrases(extractor, doc, grammar=None):\n",
    "    # load the content of the document\n",
    "    extractor.load_document(input=doc, language='en', normalization=None)\n",
    "\n",
    "    # select the noun phrases up to 3 words as keyphrase candidates\n",
    "    if grammar is not None:\n",
    "        extractor.candidate_selection(grammar=grammar, maximum_word_number=3)\n",
    "    else:\n",
    "        extractor.candidate_selection()\n",
    "\n",
    "    # weight the candidates using the sum of their word's scores that are\n",
    "    # computed using random walk biaised with the position of the words\n",
    "    # in the document. In the graph, nodes are words (nouns and\n",
    "    # adjectives only) that are connected if they occur in a window of\n",
    "    # 10 words.\n",
    "    extractor.candidate_weighting(window=10, pos=pos)\n",
    "\n",
    "    # get the 10-highest scored candidates as keyphrases\n",
    "    keyphrases = extractor.get_n_best(n=10)\n",
    "\n",
    "    # compute rouge scores\n",
    "    scores = rouge.get_scores(keyphrases[0][0], doc)\n",
    "\n",
    "    return scores"
   ]
  },
  {
   "cell_type": "code",
   "execution_count": 17,
   "metadata": {},
   "outputs": [],
   "source": [
    "def mean_all_scores(all_scores):\n",
    "    mean_r_1, mean_p_1, mean_f_1 = 0, 0, 0\n",
    "    mean_r_2, mean_p_2, mean_f_2 = 0, 0, 0\n",
    "    mean_r_l, mean_p_l, mean_f_l = 0, 0, 0\n",
    "\n",
    "    total_scores = len(all_scores)\n",
    "\n",
    "    for scores in all_scores:\n",
    "        mean_r_1 += scores['rouge-1']['r']\n",
    "        mean_p_1 += scores['rouge-1']['p']\n",
    "        mean_f_1 += scores['rouge-1']['f']\n",
    "\n",
    "        mean_r_2 += scores['rouge-2']['r']\n",
    "        mean_p_2 += scores['rouge-2']['p']\n",
    "        mean_f_2 += scores['rouge-2']['f']\n",
    "\n",
    "        mean_r_l += scores['rouge-l']['r']\n",
    "        mean_p_l += scores['rouge-l']['p']\n",
    "        mean_f_l += scores['rouge-l']['f']\n",
    "\n",
    "    mean_r_1 /= total_scores\n",
    "    mean_p_1 /= total_scores\n",
    "    mean_f_1 /= total_scores\n",
    "\n",
    "    mean_r_2 /= total_scores\n",
    "    mean_p_2 /= total_scores\n",
    "    mean_f_2 /= total_scores\n",
    "\n",
    "    mean_r_l /= total_scores\n",
    "    mean_p_l /= total_scores\n",
    "    mean_f_l /= total_scores\n",
    "\n",
    "    return mean_r_1, mean_p_1, mean_f_1, mean_r_2, mean_p_2, mean_f_2, mean_r_l, mean_p_l, mean_f_l"
   ]
  },
  {
   "cell_type": "code",
   "execution_count": 18,
   "metadata": {},
   "outputs": [
    {
     "name": "stdout",
     "output_type": "stream",
     "text": [
      "Processing file 99.txt\r"
     ]
    }
   ],
   "source": [
    "for i in range(2, 100):\n",
    "    try:\n",
    "        with open(f'./Inspec/docsutf8/{i}.txt') as inspec_file:\n",
    "            doc = inspec_file.read()\n",
    "        print(f\"Processing file {i}.txt\", end='\\r')\n",
    "    except:\n",
    "        continue\n",
    "\n",
    "    position_rank_scores = extract_keyphrases(position_rank_extractor, doc, grammar=grammar)\n",
    "    single_rank_scores = extract_keyphrases(single_rank_extractor, doc)\n",
    "\n",
    "    all_scores_pr.append(position_rank_scores[0])\n",
    "    all_scores_sr.append(position_rank_scores[0])"
   ]
  },
  {
   "cell_type": "markdown",
   "metadata": {},
   "source": [
    "## 1. Position Rank"
   ]
  },
  {
   "cell_type": "code",
   "execution_count": 19,
   "metadata": {},
   "outputs": [
    {
     "name": "stdout",
     "output_type": "stream",
     "text": [
      "Mean_r_1: 0.03428516174368198\n",
      "Mean_p_1: 0.8452380952380952\n",
      "Mean_f_1: 0.0650689596969027 \n",
      "\n",
      "Mean_r_2: 0.013238319316660786\n",
      "Mean_p_2: 0.7261904761904762\n",
      "Mean_f_2: 0.025741417478775546 \n",
      "\n",
      "Mean_r_l: 0.03403928462140754\n",
      "Mean_p_l: 0.8373015873015874\n",
      "Mean_f_l: 0.06459200609494908\n"
     ]
    }
   ],
   "source": [
    "mean_r_1, mean_p_1, mean_f_1, mean_r_2, mean_p_2, mean_f_2, mean_r_l, mean_p_l, mean_f_l = mean_all_scores(all_scores_pr)\n",
    "\n",
    "print(\"Mean_r_1:\", mean_r_1)\n",
    "print(\"Mean_p_1:\", mean_p_1)\n",
    "print(\"Mean_f_1:\", mean_f_1 , \"\\n\")\n",
    "\n",
    "print(\"Mean_r_2:\", mean_r_2)\n",
    "print(\"Mean_p_2:\", mean_p_2)\n",
    "print(\"Mean_f_2:\", mean_f_2, \"\\n\")\n",
    "\n",
    "print(\"Mean_r_l:\", mean_r_l)\n",
    "print(\"Mean_p_l:\", mean_p_l)\n",
    "print(\"Mean_f_l:\", mean_f_l)"
   ]
  },
  {
   "cell_type": "markdown",
   "metadata": {},
   "source": [
    "## 2. Single Rank"
   ]
  },
  {
   "cell_type": "code",
   "execution_count": 20,
   "metadata": {},
   "outputs": [
    {
     "name": "stdout",
     "output_type": "stream",
     "text": [
      "Mean_r_1: 0.03428516174368198\n",
      "Mean_p_1: 0.8452380952380952\n",
      "Mean_f_1: 0.0650689596969027 \n",
      "\n",
      "Mean_r_2: 0.013238319316660786\n",
      "Mean_p_2: 0.7261904761904762\n",
      "Mean_f_2: 0.025741417478775546 \n",
      "\n",
      "Mean_r_l: 0.03403928462140754\n",
      "Mean_p_l: 0.8373015873015874\n",
      "Mean_f_l: 0.06459200609494908\n"
     ]
    }
   ],
   "source": [
    "mean_r_1, mean_p_1, mean_f_1, mean_r_2, mean_p_2, mean_f_2, mean_r_l, mean_p_l, mean_f_l = mean_all_scores(all_scores_sr)\n",
    "\n",
    "print(\"Mean_r_1:\", mean_r_1)\n",
    "print(\"Mean_p_1:\", mean_p_1)\n",
    "print(\"Mean_f_1:\", mean_f_1, \"\\n\")\n",
    "\n",
    "print(\"Mean_r_2:\", mean_r_2)\n",
    "print(\"Mean_p_2:\", mean_p_2)\n",
    "print(\"Mean_f_2:\", mean_f_2, \"\\n\")\n",
    "\n",
    "print(\"Mean_r_l:\", mean_r_l)\n",
    "print(\"Mean_p_l:\", mean_p_l)\n",
    "print(\"Mean_f_l:\", mean_f_l)"
   ]
  }
 ],
 "metadata": {
  "kernelspec": {
   "display_name": "Python 3",
   "language": "python",
   "name": "python3"
  },
  "language_info": {
   "codemirror_mode": {
    "name": "ipython",
    "version": 3
   },
   "file_extension": ".py",
   "mimetype": "text/x-python",
   "name": "python",
   "nbconvert_exporter": "python",
   "pygments_lexer": "ipython3",
   "version": "3.11.5"
  }
 },
 "nbformat": 4,
 "nbformat_minor": 2
}
